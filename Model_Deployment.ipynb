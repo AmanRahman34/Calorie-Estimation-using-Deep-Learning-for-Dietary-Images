{
 "cells": [
  {
   "cell_type": "code",
   "execution_count": 22,
   "id": "4eccb270-2803-4285-b60f-7c238efe6d89",
   "metadata": {},
   "outputs": [],
   "source": [
    "import streamlit as st\n",
    "from PIL import Image\n",
    "from keras.preprocessing.image import load_img, img_to_array\n",
    "import numpy as np\n",
    "from keras.models import load_model\n",
    "import requests\n",
    "from bs4 import BeautifulSoup\n",
    "import webbrowser\n",
    "import base64\n"
   ]
  },
  {
   "cell_type": "code",
   "execution_count": 23,
   "id": "b3b52fe1-c840-4c09-9f57-f3d68f409c5e",
   "metadata": {},
   "outputs": [
    {
     "name": "stderr",
     "output_type": "stream",
     "text": [
      "WARNING:absl:Compiled the loaded model, but the compiled metrics have yet to be built. `model.compile_metrics` will be empty until you train or evaluate the model.\n"
     ]
    }
   ],
   "source": [
    "model = load_model('FV.h5')\n",
    "\n",
    "# Mapping of class indices to labels\n",
    "labels = {\n",
    "    0: 'apple', 1: 'banana', 2: 'beetroot', 3: 'capsicum', 4: 'cabbage', \n",
    "    5: 'capsicum', 6: 'carrot', 7: 'cauliflower', 8: 'chilli pepper', 9: 'corn', \n",
    "    10: 'cucumber', 11: 'eggplant', 12: 'garlic', 13: 'ginger', 14: 'grapes', \n",
    "    15: 'jalapeno', 16: 'kiwi', 17: 'lemon', 18: 'lettuce', 19: 'mango', \n",
    "    20: 'onion', 21: 'orange', 22: 'paprika', 23: 'pear', 24: 'peas', \n",
    "    25: 'pineapple', 26: 'pomegranate', 27: 'potato', 28: 'raddish', \n",
    "    29: 'soy beans', 30: 'spinach', 31: 'sweetcorn', 32: 'sweetpotato', \n",
    "    33: 'tomato', 34: 'turnip', 35: 'watermelon'\n",
    "}\n",
    "fruits = ['Apple','Banana','Chilli Pepper','Grapes','Jalapeno','Kiwi','Lemon','Mango','Orange','Paprika','Pear','Pineapple','Pomegranate','Watermelon']\n",
    "vegetables = ['Beetroot','Cabbage','Capsicum','Carrot','Cauliflower','Corn','Cucumber','Eggplant','Ginger','Lettuce','Onion','Peas','Potato','Raddish','Soy Beans','Spinach','Sweetcorn','Sweetpotato','Tomato','Turnip']\n"
   ]
  },
  {
   "cell_type": "code",
   "execution_count": 24,
   "id": "a731e509-aa07-497b-b3ef-d4a91b5d9b50",
   "metadata": {},
   "outputs": [],
   "source": [
    "# def fetch_calories(prediction):\n",
    "#     try:\n",
    "#         url = 'https://www.google.com/search?&q=calories in ' + prediction + ' 100g'\n",
    "#         req = requests.get(url).text\n",
    "#         scrap = BeautifulSoup(req, 'html.parser')\n",
    "#         calories = scrap.find(\"div\", class_=\"BNeawe iBp4i AP7Wnd\").text\n",
    "#         return calories\n",
    "#     except Exception as e:\n",
    "#         st.error(\"Unable to fetch the Calories.\")\n",
    "#         print(e)"
   ]
  },
  {
   "cell_type": "code",
   "execution_count": 25,
   "id": "9f631033-305e-4546-9f23-df3a8b0159e3",
   "metadata": {},
   "outputs": [
    {
     "name": "stdout",
     "output_type": "stream",
     "text": [
      "Calories in apple: 52 calories\n"
     ]
    }
   ],
   "source": [
    "def fetch_calories(prediction):\n",
    "    try:\n",
    "        # Construct the search URL\n",
    "        url = 'https://www.google.com/search?&q=calories in ' + prediction + ' 100g'\n",
    "        headers = {\n",
    "            'User-Agent': 'Mozilla/5.0 (Windows NT 10.0; Win64; x64) AppleWebKit/537.36 (KHTML, like Gecko) Chrome/58.0.3029.110 Safari/537.3'\n",
    "        }\n",
    "\n",
    "        # Make the request to Google\n",
    "        req = requests.get(url, headers=headers)\n",
    "        \n",
    "        # Check if the response was successful\n",
    "        if req.status_code != 200:\n",
    "            print(\"Error: Unable to fetch data from Google.\")\n",
    "            return None\n",
    "        \n",
    "        # Parse the HTML content\n",
    "        soup = BeautifulSoup(req.text, 'html.parser')\n",
    "        \n",
    "        # Find the calorie information (may need to adjust the selector based on the returned HTML)\n",
    "        calories_info = soup.find_all(\"div\", class_=\"BNeawe iBp4i AP7Wnd\")\n",
    "\n",
    "        # If calories_info is found, extract the relevant data\n",
    "        if calories_info:\n",
    "            for info in calories_info:\n",
    "                text = info.get_text()\n",
    "                if \"calories\" in text.lower():  # Check if it contains 'calories'\n",
    "                    return text  # Return the text with calorie information\n",
    "            print(\"Calories not found in the response.\")\n",
    "            return None\n",
    "        else:\n",
    "            print(\"No relevant data found.\")\n",
    "            return None\n",
    "        \n",
    "    except Exception as e:\n",
    "        print(\"Error fetching calories:\", e)\n",
    "        return None\n",
    "\n",
    "# Example usage\n",
    "food_item = \"apple\"\n",
    "calories = fetch_calories(food_item)\n",
    "if calories:\n",
    "    print(f\"Calories in {food_item}: {calories}\")"
   ]
  },
  {
   "cell_type": "code",
   "execution_count": 26,
   "id": "3bb60686-f496-45dd-82db-6cf50ce17544",
   "metadata": {},
   "outputs": [
    {
     "name": "stdout",
     "output_type": "stream",
     "text": [
      "Fat in apple: 0.2 g\n"
     ]
    }
   ],
   "source": [
    "\n",
    "\n",
    "def fetch_fat(prediction):\n",
    "    try:\n",
    "        url = 'https://www.google.com/search?&q=fat in ' + prediction\n",
    "        headers = {'User-Agent': 'Mozilla/5.0 (Windows NT 10.0; Win64; x64) AppleWebKit/537.36 (KHTML, like Gecko) Chrome/58.0.3029.110 Safari/537.3'}\n",
    "        req = requests.get(url, headers=headers).text\n",
    "        \n",
    "        scrap = BeautifulSoup(req, 'html.parser')\n",
    "        \n",
    "        fat_info = scrap.find(\"div\", class_=\"BNeawe iBp4i AP7Wnd\")\n",
    "        \n",
    "        if fat_info:\n",
    "            return fat_info.text\n",
    "        else:\n",
    "            print(\"Fat information not found.\")\n",
    "            return None\n",
    "    except Exception as e:\n",
    "        print(\"Error fetching fat information:\", e)\n",
    "        return None\n",
    "\n",
    "# Example usage\n",
    "food_item = \"apple\"\n",
    "fat_content = fetch_fat(food_item)\n",
    "if fat_content:\n",
    "    print(f\"Fat in {food_item}: {fat_content}\")\n"
   ]
  },
  {
   "cell_type": "code",
   "execution_count": 27,
   "id": "64e23e0f-af70-445c-b633-b27352dce141",
   "metadata": {},
   "outputs": [],
   "source": [
    "def get_base64_of_bin_file(bin_file):\n",
    "    \"\"\"\n",
    "    function to read png file \n",
    "    ----------\n",
    "    bin_file: png -> the background image in local folder\n",
    "    \"\"\"\n",
    "    with open(bin_file, 'rb') as f:\n",
    "        data = f.read()\n",
    "    return base64.b64encode(data).decode()\n",
    "\n"
   ]
  },
  {
   "cell_type": "code",
   "execution_count": 28,
   "id": "04013ae9-6671-4efb-946c-a7aba4862706",
   "metadata": {},
   "outputs": [],
   "source": [
    "def set_bg_hack(main_bg):\n",
    "    '''\n",
    "    A function to unpack an image from root folder and set as bg.\n",
    " \n",
    "    Returns\n",
    "    -------\n",
    "    The background.\n",
    "    '''\n",
    "    # set bg name\n",
    "    main_bg_ext = \"png\"\n",
    "        \n",
    "    st.markdown(\n",
    "         f\"\"\"\n",
    "         <style>\n",
    "         .stApp {{\n",
    "             background: url(data:image/{main_bg_ext};base64,{base64.b64encode(open(main_bg, \"rb\").read()).decode()});\n",
    "             background-size: cover\n",
    "         }}\n",
    "         </style>\n",
    "         \"\"\",\n",
    "         unsafe_allow_html=True\n",
    "     )\n"
   ]
  },
  {
   "cell_type": "code",
   "execution_count": 29,
   "id": "679b7570-8258-48cc-9eee-75a9b95b4ad6",
   "metadata": {},
   "outputs": [],
   "source": [
    "def processed_img(img_path):\n",
    "    img=load_img(img_path,target_size=(224,224,3))\n",
    "    img=img_to_array(img)\n",
    "    img=img/255\n",
    "    img=np.expand_dims(img,[0])\n",
    "    answer=model.predict(img)\n",
    "    y_class = answer.argmax(axis=-1)\n",
    "    print(y_class)\n",
    "    y = \" \".join(str(x) for x in y_class)\n",
    "    y = int(y)\n",
    "    res = labels[y]\n",
    "    print(res)\n",
    "    return res.capitalize()\n"
   ]
  },
  {
   "cell_type": "code",
   "execution_count": 30,
   "id": "b256fbe4-a7ad-4073-8515-5ac43ba86c9c",
   "metadata": {},
   "outputs": [],
   "source": [
    "def run():\n",
    "    set_bg_hack(r\"C:\\Users\\mas_r\\OneDrive\\Desktop\\Major project\\Images\\bg_image.jpg\")    \n",
    "    st.title(\"Calorie Predictor & Diet Plan Recommender\")\n"
   ]
  },
  {
   "cell_type": "code",
   "execution_count": 36,
   "id": "14c7f28b-9900-400d-ba83-7079480538cd",
   "metadata": {},
   "outputs": [],
   "source": [
    "#     if st.button('Go to diet plans'):\n",
    "#         webbrowser.open_new_tab(r\"C:\\Users\\mas_r\\OneDrive\\Desktop\\Major project\\index1.html\")\n",
    "#     img_file = st.file_uploader(\"Choose an Image\", type=[\"jpg\", \"png\"])\n",
    "#     if img_file is not None:\n",
    "#         img = Image.open(img_file).resize((250,250))\n",
    "#         st.image(img,use_column_width=False)\n",
    "#         save_image_path = './upload_images/'+img_file.name\n",
    "#         with open(save_image_path, \"wb\") as f:\n",
    "#             f.write(img_file.getbuffer())\n",
    "\n",
    "#         # if st.button(\"Predict\"):\n",
    "#         if img_file is not None:\n",
    "#             result= processed_img(save_image_path)\n",
    "#             print(result)\n",
    "#             if result in vegetables:\n",
    "#                 st.info('**Category : Vegetables**')\n",
    "#             else:\n",
    "#                 st.info('**Category : Fruit**')\n",
    "#             st.success(\"**Predicted : \"+result+'**')\n",
    "#             cal = fetch_calories(result)\n",
    "#             fat=fetch_fat(result)\n",
    "#             if cal:\n",
    "#                 st.warning('**'+cal+'(100 grams)**')\n",
    "#             if fat:\n",
    "#            \t st.warning('**'+'Total fat:'+fat+'**')\n",
    "            \n",
    "# run()\n",
    "# def run():\n",
    "#     # Streamlit app title\n",
    "#     st.title(\"Calorie Predictor & Diet Plan Recommender\")\n",
    "    \n",
    "#     # Button to navigate to diet plans\n",
    "#     if st.button('Go to diet plans'):\n",
    "#         webbrowser.open_new_tab(r\"C:\\Users\\mas_r\\OneDrive\\Desktop\\Major project\\index1.html\")\n",
    "    \n",
    "#     # File uploader for images\n",
    "#     img_file = st.file_uploader(\"Choose an Image\", type=[\"jpg\", \"png\"])\n",
    "    \n",
    "#     if img_file is not None:\n",
    "#         img = Image.open(img_file).resize((250, 250))\n",
    "#         st.image(img, use_column_width=False)\n",
    "        \n",
    "#         # Save the uploaded image\n",
    "#         save_image_path = './upload_images/' + img_file.name\n",
    "#         with open(save_image_path, \"wb\") as f:\n",
    "#             f.write(img_file.getbuffer())\n",
    "\n",
    "#         # Process the image to get predictions\n",
    "#         result = processed_img(save_image_path)\n",
    "#         st.write(\"Predicted Result:\", result)  # Debug output for predicted result\n",
    "\n",
    "#         if result in vegetables:\n",
    "#             st.info('**Category: Vegetables**')\n",
    "#         else:\n",
    "#             st.info('**Category: Fruits**')\n",
    "\n",
    "#         st.success(\"**Predicted: \" + result + '**')\n",
    "\n",
    "#         # Fetch and display nutritional information\n",
    "#         cal = fetch_calories(result)\n",
    "#         fat = fetch_fat(result)\n",
    "\n",
    "#         if cal:\n",
    "#             st.warning('**' + cal + ' (100 grams)**')\n",
    "#         if fat:\n",
    "#             st.warning('**Total fat: ' + fat + '**')\n",
    "\n",
    "# # Call the run function to execute the app\n",
    "# if __name__ == \"__main__\":\n",
    "#     run()"
   ]
  },
  {
   "cell_type": "code",
   "execution_count": 37,
   "id": "0ccb03fa-5b5c-4122-a84b-7869b5e11395",
   "metadata": {},
   "outputs": [],
   "source": [
    "import streamlit as st\n",
    "import os\n",
    "\n",
    "def run():\n",
    "    st.title(\"Image Upload\")\n",
    "\n",
    "    # Upload image\n",
    "    uploaded_file = st.file_uploader(\"Choose an image...\", type=[\"jpeg\", \"jpg\", \"png\"])\n",
    "\n",
    "    if uploaded_file is not None:\n",
    "        # Define the directory to save uploaded images\n",
    "        upload_dir = './upload_images'\n",
    "        \n",
    "        # Create the directory if it doesn't exist\n",
    "        if not os.path.exists(upload_dir):\n",
    "            os.makedirs(upload_dir)\n",
    "\n",
    "        # Create the full path to save the file\n",
    "        save_image_path = os.path.join(upload_dir, uploaded_file.name)\n",
    "\n",
    "        # Log the current working directory and expected path\n",
    "        st.write(\"Current Directory:\", os.getcwd())\n",
    "        st.write(\"Expected Path:\", save_image_path)\n",
    "\n",
    "        # Save the uploaded image\n",
    "        try:\n",
    "            with open(save_image_path, \"wb\") as f:\n",
    "                f.write(uploaded_file.getbuffer())\n",
    "            st.success(\"Image saved successfully!\")\n",
    "            st.image(save_image_path)\n",
    "        except Exception as e:\n",
    "            st.error(f\"Error saving image: {e}\")\n",
    "\n",
    "if __name__ == \"__main__\":\n",
    "    run()\n"
   ]
  },
  {
   "cell_type": "code",
   "execution_count": 35,
   "id": "f405f0aa-3cfd-4a29-8fd3-25565bdffce8",
   "metadata": {},
   "outputs": [
    {
     "data": {
      "text/plain": [
       "1"
      ]
     },
     "execution_count": 35,
     "metadata": {},
     "output_type": "execute_result"
    }
   ],
   "source": []
  },
  {
   "cell_type": "code",
   "execution_count": null,
   "id": "0f758c96-3f53-46aa-9c04-d49fb04a2c8c",
   "metadata": {},
   "outputs": [],
   "source": []
  }
 ],
 "metadata": {
  "kernelspec": {
   "display_name": "Python 3",
   "language": "python",
   "name": "python3"
  },
  "language_info": {
   "codemirror_mode": {
    "name": "ipython",
    "version": 3
   },
   "file_extension": ".py",
   "mimetype": "text/x-python",
   "name": "python",
   "nbconvert_exporter": "python",
   "pygments_lexer": "ipython3",
   "version": "3.11.9"
  }
 },
 "nbformat": 4,
 "nbformat_minor": 5
}
